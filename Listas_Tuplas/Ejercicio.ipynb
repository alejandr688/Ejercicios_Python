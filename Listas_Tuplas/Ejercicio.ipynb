{
 "cells": [
  {
   "cell_type": "code",
   "execution_count": 3,
   "id": "40d8ce59",
   "metadata": {},
   "outputs": [
    {
     "name": "stdout",
     "output_type": "stream",
     "text": [
      "[[0, 0], [0, 0]]\n"
     ]
    }
   ],
   "source": [
    "matriz=[[0 for _ in range(2)] for _ in range(2)]\n",
    "print(matriz)"
   ]
  },
  {
   "cell_type": "code",
   "execution_count": 5,
   "id": "53f3bdf8",
   "metadata": {},
   "outputs": [
    {
     "name": "stdout",
     "output_type": "stream",
     "text": [
      "[[1, 1, 1], [1, 1, 1], [1, 1, 1], [1, 1, 1]]\n"
     ]
    }
   ],
   "source": [
    "#Crea una matriz de 4 filas y 3 columnas llenas de (1)\n",
    "\n",
    "matriz=[[1 for _ in range(3)] for _ in range(4)]\n",
    "print(matriz)"
   ]
  },
  {
   "cell_type": "code",
   "execution_count": 6,
   "id": "9354f71e",
   "metadata": {},
   "outputs": [
    {
     "name": "stdout",
     "output_type": "stream",
     "text": [
      "[1, 1, 1]\n",
      "[1, 1, 1]\n",
      "[1, 1, 1]\n",
      "[1, 1, 1]\n"
     ]
    }
   ],
   "source": [
    "for fila in matriz:\n",
    "    print(fila)"
   ]
  },
  {
   "cell_type": "code",
   "execution_count": 11,
   "id": "692b071a",
   "metadata": {},
   "outputs": [
    {
     "name": "stdout",
     "output_type": "stream",
     "text": [
      "[1, 0, 0, 0, 0]\n",
      "[0, 1, 0, 0, 0]\n",
      "[0, 0, 1, 0, 0]\n",
      "[0, 0, 0, 1, 0]\n",
      "[0, 0, 0, 0, 1]\n"
     ]
    }
   ],
   "source": [
    "#Ejercicio 2\n",
    "#Crea una matriz de 5x5 que tenga todos ceros, excepto en la diagonal principal, que debe tener unos\n",
    "#Primero la hago de puros ceros que ya sé hacerla\n",
    "matriz=[[1 if i==j else 0 for j in range(5)] for i in range(5)]\n",
    "for fila in matriz:\n",
    "    print(fila)"
   ]
  },
  {
   "cell_type": "code",
   "execution_count": 15,
   "id": "643dd5dc",
   "metadata": {},
   "outputs": [
    {
     "name": "stdout",
     "output_type": "stream",
     "text": [
      "[1, 1, 1, 1, 1, 1]\n",
      "[1, 0, 0, 0, 0, 1]\n",
      "[1, 0, 0, 0, 0, 1]\n",
      "[1, 0, 0, 0, 0, 1]\n",
      "[1, 0, 0, 0, 0, 1]\n",
      "[1, 1, 1, 1, 1, 1]\n"
     ]
    }
   ],
   "source": [
    "#Matriz de 6x6, los bordes llenos de 1 y lo demás cero\n",
    "matriz=[[1 if i==0 or i==5 or j==0 or j==5 else 0 for j in range(6)] for i in range(6)]\n",
    "for fila in matriz:\n",
    "    print(fila)"
   ]
  },
  {
   "cell_type": "code",
   "execution_count": 16,
   "id": "b43716f4",
   "metadata": {},
   "outputs": [
    {
     "name": "stdout",
     "output_type": "stream",
     "text": [
      "[0, 1, 2, 3, 4]\n",
      "[1, 2, 3, 4, 5]\n",
      "[2, 3, 4, 5, 6]\n",
      "[3, 4, 5, 6, 7]\n",
      "[4, 5, 6, 7, 8]\n"
     ]
    }
   ],
   "source": [
    "matriz=[[i+j for j in range(5)] for i in range(5)]\n",
    "for fila in matriz:\n",
    "    print(fila)"
   ]
  },
  {
   "cell_type": "code",
   "execution_count": 17,
   "id": "11247bc5",
   "metadata": {},
   "outputs": [
    {
     "name": "stdout",
     "output_type": "stream",
     "text": [
      "[1, 0, 1, 0, 1, 0]\n",
      "[0, 1, 0, 1, 0, 1]\n",
      "[1, 0, 1, 0, 1, 0]\n",
      "[0, 1, 0, 1, 0, 1]\n",
      "[1, 0, 1, 0, 1, 0]\n",
      "[0, 1, 0, 1, 0, 1]\n"
     ]
    }
   ],
   "source": [
    "matriz=[[1 if (i+j)%2==0 else 0 for j in range(6)] for i in range(6)]\n",
    "for fila in matriz:\n",
    "    print(fila)"
   ]
  },
  {
   "cell_type": "code",
   "execution_count": 21,
   "id": "4c3c3b85",
   "metadata": {},
   "outputs": [
    {
     "name": "stdout",
     "output_type": "stream",
     "text": [
      "[1, 2, 3, 4, 5, 6]\n",
      "[7, 8, 9, 10, 11, 12]\n",
      "[13, 14, 15, 16, 17, 18]\n",
      "[19, 20, 21, 22, 23, 24]\n",
      "[25, 26, 27, 28, 29, 30]\n",
      "[31, 32, 33, 34, 35, 36]\n"
     ]
    }
   ],
   "source": [
    "#Crea una matriz de 6 filas y 6 columnas que contenga los números del 1 al 36, en orden\n",
    "contador=1\n",
    "matriz=[]\n",
    "\n",
    "for i in range(6):\n",
    "    filas=[]\n",
    "    for j in range(6):\n",
    "        filas.append(contador)\n",
    "        contador+=1\n",
    "    matriz.append(filas)\n",
    "    \n",
    "for filas in matriz:\n",
    "    print(filas)"
   ]
  },
  {
   "cell_type": "code",
   "execution_count": 20,
   "id": "c811fe6e",
   "metadata": {},
   "outputs": [
    {
     "name": "stdout",
     "output_type": "stream",
     "text": [
      "[1, 2, 3, 4, 5, 6]\n",
      "[7, 8, 9, 10, 11, 12]\n",
      "[13, 14, 15, 16, 17, 18]\n",
      "[19, 20, 21, 22, 23, 24]\n",
      "[25, 26, 27, 28, 29, 30]\n",
      "[31, 32, 33, 34, 35, 36]\n"
     ]
    }
   ],
   "source": [
    "contador = 1\n",
    "matriz = []\n",
    "\n",
    "for i in range(6):  # 6 filas\n",
    "    fila = []\n",
    "    for j in range(6):  # 6 columnas\n",
    "        fila.append(contador)\n",
    "        contador += 1\n",
    "    matriz.append(fila)\n",
    "\n",
    "# Imprimir la matriz\n",
    "for fila in matriz:\n",
    "    print(fila)\n"
   ]
  },
  {
   "cell_type": "code",
   "execution_count": 23,
   "id": "b23ca528",
   "metadata": {},
   "outputs": [
    {
     "name": "stdout",
     "output_type": "stream",
     "text": [
      "[0, 0, 0]\n",
      "[0, 0, 0]\n",
      "[0, 0, 0]\n"
     ]
    }
   ],
   "source": [
    "A = [[2, 4],\n",
    "     [3, 1],\n",
    "     [1, 0]]\n",
    "\n",
    "B = [[1, 2, 3],\n",
    "     [0, 1, 4]]\n",
    "\n",
    "c=[[0 for j in range(3)] for i in range(3)]\n",
    "for fila in c:\n",
    "    print(fila)"
   ]
  },
  {
   "cell_type": "code",
   "execution_count": 24,
   "id": "e668c466",
   "metadata": {},
   "outputs": [
    {
     "name": "stdout",
     "output_type": "stream",
     "text": [
      "[2, 8, 22]\n",
      "[3, 7, 13]\n",
      "[1, 2, 3]\n"
     ]
    }
   ],
   "source": [
    "#Ahora multiplicamos las matrices\n",
    "\n",
    "for i in range(3):\n",
    "    for j in range(3):\n",
    "        for k in range(2):\n",
    "            c[i][j]+=A[i][k]*B[k][j]\n",
    "\n",
    "for fila in c:\n",
    "    print(fila)"
   ]
  },
  {
   "cell_type": "code",
   "execution_count": null,
   "id": "cf75847f",
   "metadata": {},
   "outputs": [],
   "source": []
  }
 ],
 "metadata": {
  "kernelspec": {
   "display_name": "Python 3",
   "language": "python",
   "name": "python3"
  },
  "language_info": {
   "codemirror_mode": {
    "name": "ipython",
    "version": 3
   },
   "file_extension": ".py",
   "mimetype": "text/x-python",
   "name": "python",
   "nbconvert_exporter": "python",
   "pygments_lexer": "ipython3",
   "version": "3.13.1"
  }
 },
 "nbformat": 4,
 "nbformat_minor": 5
}
